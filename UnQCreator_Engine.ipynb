{
 "cells": [
  {
   "cell_type": "markdown",
   "metadata": {
    "id": "welcome-header"
   },
   "source": [
    "# ✨ UnQCreator Engine Launcher\n",
    "\n",
    "Welcome to the UnQCreator Engine Launcher! This notebook sets up your cloud-based engine backend for creating amazing videos.\n",
    "\n",
    "## 🚀 Quick Start:\n",
    "1. Enter your Vercel URL and Cloudflare Token in the form below\n",
    "2. Click the \"Launch Engine\" button in the next cell\n",
    "3. Wait for the setup to complete (5-10 minutes)\n",
    "4. You'll receive your public API endpoint when ready\n",
    "\n",
    "## 🔗 Connect Your Frontend:\n",
    "Once the engine is running, update your frontend settings to point to your new API endpoint."
   ]
  },
  {
   "cell_type": "code",
   "execution_count": null,
   "metadata": {
    "cellView": "form",
    "id": "configuration-cell"
   },
   "outputs": [],
   "source": [
    "#@title 💾 1. Configuration\n",
    "#@markdown ---\n",
    "#@markdown Enter your Vercel frontend URL (for security/CORS) and your Cloudflare Tunnel Token.\n",
    "#@markdown You can get your Cloudflare token from the Zero Trust dashboard.\n",
    "VERCEL_URL = \"https://unqcreator.vercel.app\" #@param {type:\"string\"}\n",
    "CLOUDFLARE_TOKEN = \"\" #@param {type:\"string\"}\n",
    "\n",
    "if not CLOUDFLARE_TOKEN:\n",
    "  print(\"❌ Error: Please enter your Cloudflare Token.\")\n",
    "else:\n",
    "  print(\"✅ Configuration loaded successfully.\")"
   ]
  },
  {
   "cell_type": "code",
   "execution_count": null,
   "metadata": {
    "cellView": "form",
    "id": "launch-engine-cell"
   },
   "outputs": [],
   "source": [
    "#@title 🚀 2. Launch Engine\n",
    "#@markdown Click the play button to start the UnQCreator Engine setup process.\n",
    "\n",
    "import os\n",
    "import time\n",
    "import asyncio\n",
    "from subprocess import Popen\n",
    "from IPython.display import HTML, display\n",
    "\n",
    "# Display a stylish progress indicator\n",
    "def show_progress(message):\n",
    "    print(f\"\\033[1;34m{message}\\033[0m\")\n",
    "    \n",
    "# Step 1: Clone the repository\n",
    "show_progress(\"📥 Cloning the UnQCreator repository...\")\n",
    "!git clone https://github.com/Sandeepgaddam5432/unqcreator.git /content/unqcreator\n",
    "%cd /content/unqcreator\n",
    "show_progress(\"✅ Repository cloned successfully!\")\n",
    "\n",
    "# Step 2: Install dependencies with correct path to requirements.txt\n",
    "show_progress(\"📦 Installing Python dependencies... (This may take a few minutes)\")\n",
    "!pip install -q -r video_genarater/UnQ-YT-Auto/requirements.txt\n",
    "show_progress(\"✅ Dependencies installed successfully!\")\n",
    "\n",
    "# Step 3: Setup Cloudflare Tunnel\n",
    "show_progress(\"🔒 Setting up Cloudflare Tunnel...\")\n",
    "!wget -q https://github.com/cloudflare/cloudflared/releases/latest/download/cloudflared-linux-amd64 -O /usr/local/bin/cloudflared\n",
    "!chmod +x /usr/local/bin/cloudflared\n",
    "show_progress(\"✅ Cloudflare client downloaded and installed!\")\n",
    "\n",
    "# Define the async function to run the cloudflared tunnel\n",
    "async def run_cloudflared():\n",
    "    show_progress(\"🚇 Starting Cloudflare Tunnel...\")\n",
    "    os.environ['CLOUDFLARE_TOKEN'] = CLOUDFLARE_TOKEN\n",
    "    # This will block, so we run it in a way that lets the notebook continue\n",
    "    process = Popen(['cloudflared', 'tunnel', 'run', '--token', CLOUDFLARE_TOKEN])\n",
    "    show_progress(f\"✅ Cloudflare Tunnel established! (Process ID: {process.pid})\")\n",
    "\n",
    "# Launch the Cloudflare tunnel in the background\n",
    "asyncio.create_task(run_cloudflared())\n",
    "time.sleep(3)  # Give cloudflared a moment to start\n",
    "\n",
    "# Display final setup message\n",
    "show_progress(\"\\n🎬 Starting UnQCreator Engine...\")\n",
    "show_progress(f\"🔐 Allowing requests only from: {VERCEL_URL}\")\n",
    "\n",
    "# Show pretty note box\n",
    "display(HTML(\"\"\"\n",
    "<div style=\"background-color: #f0f7ff; padding: 15px; border-left: 5px solid #0366d6; border-radius: 5px; margin: 20px 0;\">\n",
    "  <h3 style=\"margin-top: 0; color: #0366d6;\">🎉 Your Engine is Starting!</h3>\n",
    "  <p>The UnQCreator Engine will be available at a <code>.trycloudflare.com</code> URL shortly.</p>\n",
    "  <p>Copy this URL and paste it into your frontend Settings page.</p>\n",
    "</div>\n",
    "\"\"\"))\n",
    "\n",
    "# Launch the server with the correct path\n",
    "print(\"\\n📡 Engine output will appear below:\\n\")\n",
    "print(\"------------------------------------------\")\n",
    "!cd video_genarater/UnQ-YT-Auto && python main.py --listen --enable-cors-header \"{VERCEL_URL}\""
   ]
  }
 ],
 "metadata": {
  "accelerator": "GPU",
  "colab": {
   "gpuType": "T4",
   "provenance": []
  },
  "kernelspec": {
   "display_name": "Python 3",
   "name": "python3"
  },
  "language_info": {
   "name": "python"
  }
 },
 "nbformat": 4,
 "nbformat_minor": 0
} 