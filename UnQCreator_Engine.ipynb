{
 "cells": [
  {
   "cell_type": "markdown",
   "metadata": {},
   "source": [
    "# ? UnQCreator Engine Launcher\n",
    "This notebook will set up and run the UnQCreator Engine.\n",
    "1. First, enter your Vercel URL and Cloudflare Token below.\n",
    "2. Run all cells in order (`Runtime -> Run all`).\n",
    "3. Your public API endpoint will be printed at the end."
   ]
  },
  {
   "cell_type": "code",
   "metadata": {
    "id": "config_cell",
    "colab_type": "code",
    "colab": {
     "base_uri": "https://localhost:8080/",
     "height": 100
    },
    "outputId": "some-random-id"
   },
   "source": [
    "#@title 1. Configuration\n",
    "#@markdown ---\n",
    "#@markdown Enter your Vercel frontend URL (for security/CORS) and your Cloudflare Tunnel Token.\n",
    "#@markdown You can get your Cloudflare token from the Zero Trust dashboard.\n",
    "VERCEL_URL = \"https://unqcreator.vercel.app\" #@param {type:\"string\"}\n",
    "CLOUDFLARE_TOKEN = \"\" #@param {type:\"string\"}\n",
    "\n",
    "if not CLOUDFLARE_TOKEN:\n",
    "  print(\"? Error: Please enter your Cloudflare Token.\")\n",
    "else:\n",
    "  print(\"? Configuration loaded.\")"
   ],
   "execution_count": null,
   "outputs": []
  },
  {
   "cell_type": "code",
   "metadata": {},
   "source": [
    "print(\"? Cloning the UnQCreator repository...\")\n",
    "!git clone https://github.com/Sandeepgaddam5432/unqcreator.git /content/unqcreator\n",
    "%cd /content/unqcreator\n",
    "print(\"? Repository cloned.\")\n",
    "print(\"\\n? Installing Python dependencies...\")\n",
    "!pip install -r requirements.txt\n",
    "print(\"? Dependencies installed.\")"
   ],
   "execution_count": null,
   "outputs": []
  },
  {
   "cell_type": "code",
   "metadata": {},
   "source": [
    "print(\"? Setting up Cloudflare Tunnel...\")\n",
    "!wget https://github.com/cloudflare/cloudflared/releases/latest/download/cloudflared-linux-amd64 -O /usr/local/bin/cloudflared\n",
    "!chmod +x /usr/local/bin/cloudflared\n",
    "\n",
    "import asyncio\n",
    "import os\n",
    "from subprocess import Popen\n",
    "\n",
    "async def run_cloudflared():\n",
    "    print(\"? Starting Cloudflare Tunnel...\")\n",
    "    os.environ['CLOUDFLARE_TOKEN'] = CLOUDFLARE_TOKEN\n",
    "    # This will block, so we run it in a way that lets the notebook continue\n",
    "    process = Popen(['cloudflared', 'tunnel', 'run', '--token', CLOUDFLARE_TOKEN])\n",
    "    print(f\"Cloudflare process started with PID: {process.pid}\")\n",
    "\n",
    "asyncio.create_task(run_cloudflared())\n",
    "print(\"? Cloudflare Tunnel is launching in the background.\")"
   ],
   "execution_count": null,
   "outputs": []
  },
  {
   "cell_type": "code",
   "metadata": {},
   "source": [
    "print(\"\\n\\n? Starting UnQCreator Engine...\")\n",
    "print(f\"? Allowing requests only from: {VERCEL_URL}\")\n",
    "# Launch the server, allowing requests only from the specified Vercel URL\n",
    "!python main.py --listen --enable-cors-header \"{VERCEL_URL}\""
   ],
   "execution_count": null,
   "outputs": []
  }
 ],
 "metadata": {
  "kernelspec": {
   "name": "python3",
   "display_name": "Python 3"
  },
  "language_info": {
   "name": "python"
  }
 },
 "nbformat": 4,
 "nbformat_minor": 2
}
